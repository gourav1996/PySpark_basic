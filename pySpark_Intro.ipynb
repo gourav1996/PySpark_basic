{
 "cells": [
  {
   "cell_type": "markdown",
   "id": "376746ae",
   "metadata": {},
   "source": [
    "# Pyspark Basic"
   ]
  },
  {
   "cell_type": "code",
   "execution_count": 3,
   "id": "a634ff25",
   "metadata": {
    "scrolled": true
   },
   "outputs": [],
   "source": [
    "#!pip3 install pyspark"
   ]
  },
  {
   "cell_type": "code",
   "execution_count": 6,
   "id": "d137c3be",
   "metadata": {},
   "outputs": [],
   "source": [
    "#!pip3 install numpy"
   ]
  },
  {
   "cell_type": "code",
   "execution_count": 1,
   "id": "262757c4",
   "metadata": {},
   "outputs": [],
   "source": [
    "import pyspark"
   ]
  },
  {
   "cell_type": "code",
   "execution_count": 2,
   "id": "0d22e278",
   "metadata": {},
   "outputs": [],
   "source": [
    "from pyspark.sql import SparkSession"
   ]
  },
  {
   "cell_type": "code",
   "execution_count": 3,
   "id": "bfeb187a",
   "metadata": {},
   "outputs": [],
   "source": [
    "spark = SparkSession.builder.appName('Practise').getOrCreate()"
   ]
  },
  {
   "cell_type": "code",
   "execution_count": 4,
   "id": "170b527c",
   "metadata": {},
   "outputs": [
    {
     "data": {
      "text/html": [
       "\n",
       "            <div>\n",
       "                <p><b>SparkSession - in-memory</b></p>\n",
       "                \n",
       "        <div>\n",
       "            <p><b>SparkContext</b></p>\n",
       "\n",
       "            <p><a href=\"http://192.168.43.210:4040\">Spark UI</a></p>\n",
       "\n",
       "            <dl>\n",
       "              <dt>Version</dt>\n",
       "                <dd><code>v3.1.2</code></dd>\n",
       "              <dt>Master</dt>\n",
       "                <dd><code>local[*]</code></dd>\n",
       "              <dt>AppName</dt>\n",
       "                <dd><code>Practise</code></dd>\n",
       "            </dl>\n",
       "        </div>\n",
       "        \n",
       "            </div>\n",
       "        "
      ],
      "text/plain": [
       "<pyspark.sql.session.SparkSession at 0x7fc6e1e33790>"
      ]
     },
     "execution_count": 4,
     "metadata": {},
     "output_type": "execute_result"
    }
   ],
   "source": [
    "spark"
   ]
  },
  {
   "cell_type": "code",
   "execution_count": 5,
   "id": "bbd5b287",
   "metadata": {},
   "outputs": [],
   "source": [
    "df_pyspark = spark.read.csv('/home/gourav/Documents/test.csv')"
   ]
  },
  {
   "cell_type": "code",
   "execution_count": 11,
   "id": "50cdbfe3",
   "metadata": {},
   "outputs": [],
   "source": [
    "df_pyspark = spark.read.option('header','true').csv('/home/gourav/Documents/test.csv')"
   ]
  },
  {
   "cell_type": "code",
   "execution_count": 12,
   "id": "d8a34991",
   "metadata": {},
   "outputs": [
    {
     "name": "stdout",
     "output_type": "stream",
     "text": [
      "+----+-------------+-----------+----------------+-----+------------+-------------+-----------+\n",
      "|  ID|    TimeStamp|Temperature|RelativeHumidity|Light|OxygenLevels|HumidityRatio|GTOccupancy|\n",
      "+----+-------------+-----------+----------------+-----+------------+-------------+-----------+\n",
      "|8041|10-02-15 7:51|      20.29|          33.045|    0|         449|  0.004867773|          0|\n",
      "| 642|05-02-15 4:32|      20.89|            24.2|    0|         448|  0.003692263|          0|\n",
      "+----+-------------+-----------+----------------+-----+------------+-------------+-----------+\n",
      "only showing top 2 rows\n",
      "\n"
     ]
    }
   ],
   "source": [
    "df_pyspark.show(2)"
   ]
  },
  {
   "cell_type": "code",
   "execution_count": 13,
   "id": "90428661",
   "metadata": {},
   "outputs": [
    {
     "data": {
      "text/plain": [
       "pyspark.sql.dataframe.DataFrame"
      ]
     },
     "execution_count": 13,
     "metadata": {},
     "output_type": "execute_result"
    }
   ],
   "source": [
    "type(df_pyspark)"
   ]
  },
  {
   "cell_type": "code",
   "execution_count": 16,
   "id": "9253e397",
   "metadata": {},
   "outputs": [
    {
     "data": {
      "text/plain": [
       "Row(ID='8041', TimeStamp='10-02-15 7:51', Temperature='20.29', RelativeHumidity='33.045', Light='0', OxygenLevels='449', HumidityRatio='0.004867773', GTOccupancy='0')"
      ]
     },
     "execution_count": 16,
     "metadata": {},
     "output_type": "execute_result"
    }
   ],
   "source": [
    "df_pyspark.head()"
   ]
  },
  {
   "cell_type": "code",
   "execution_count": 17,
   "id": "1bcc2946",
   "metadata": {},
   "outputs": [
    {
     "name": "stdout",
     "output_type": "stream",
     "text": [
      "root\n",
      " |-- ID: string (nullable = true)\n",
      " |-- TimeStamp: string (nullable = true)\n",
      " |-- Temperature: string (nullable = true)\n",
      " |-- RelativeHumidity: string (nullable = true)\n",
      " |-- Light: string (nullable = true)\n",
      " |-- OxygenLevels: string (nullable = true)\n",
      " |-- HumidityRatio: string (nullable = true)\n",
      " |-- GTOccupancy: string (nullable = true)\n",
      "\n"
     ]
    }
   ],
   "source": [
    "df_pyspark.printSchema()"
   ]
  },
  {
   "cell_type": "markdown",
   "id": "96a5c7b6",
   "metadata": {},
   "source": [
    "# PySpark DataFrames"
   ]
  },
  {
   "cell_type": "code",
   "execution_count": 1,
   "id": "bf808975",
   "metadata": {},
   "outputs": [],
   "source": [
    "from pyspark.sql import SparkSession"
   ]
  },
  {
   "cell_type": "code",
   "execution_count": 2,
   "id": "6dfde54c",
   "metadata": {},
   "outputs": [],
   "source": [
    "spark = SparkSession.builder.appName('Dataframe').getOrCreate()"
   ]
  },
  {
   "cell_type": "code",
   "execution_count": 3,
   "id": "495037a6",
   "metadata": {},
   "outputs": [
    {
     "data": {
      "text/html": [
       "\n",
       "            <div>\n",
       "                <p><b>SparkSession - in-memory</b></p>\n",
       "                \n",
       "        <div>\n",
       "            <p><b>SparkContext</b></p>\n",
       "\n",
       "            <p><a href=\"http://192.168.43.210:4040\">Spark UI</a></p>\n",
       "\n",
       "            <dl>\n",
       "              <dt>Version</dt>\n",
       "                <dd><code>v3.1.2</code></dd>\n",
       "              <dt>Master</dt>\n",
       "                <dd><code>local[*]</code></dd>\n",
       "              <dt>AppName</dt>\n",
       "                <dd><code>Dataframe</code></dd>\n",
       "            </dl>\n",
       "        </div>\n",
       "        \n",
       "            </div>\n",
       "        "
      ],
      "text/plain": [
       "<pyspark.sql.session.SparkSession at 0x7f6db34f4580>"
      ]
     },
     "execution_count": 3,
     "metadata": {},
     "output_type": "execute_result"
    }
   ],
   "source": [
    "spark"
   ]
  },
  {
   "cell_type": "code",
   "execution_count": 8,
   "id": "21b173af",
   "metadata": {},
   "outputs": [],
   "source": [
    "# Read Dataset\n",
    "df_pyspark = spark.read.option('header','true').csv('/home/gourav/Documents/test.csv', inferSchema=True)"
   ]
  },
  {
   "cell_type": "code",
   "execution_count": 9,
   "id": "6172ba01",
   "metadata": {},
   "outputs": [
    {
     "name": "stdout",
     "output_type": "stream",
     "text": [
      "root\n",
      " |-- ID: integer (nullable = true)\n",
      " |-- TimeStamp: string (nullable = true)\n",
      " |-- Temperature: double (nullable = true)\n",
      " |-- RelativeHumidity: double (nullable = true)\n",
      " |-- Light: integer (nullable = true)\n",
      " |-- OxygenLevels: double (nullable = true)\n",
      " |-- HumidityRatio: double (nullable = true)\n",
      " |-- GTOccupancy: integer (nullable = true)\n",
      "\n"
     ]
    }
   ],
   "source": [
    "# Check the Schema\n",
    "df_pyspark.printSchema()"
   ]
  },
  {
   "cell_type": "code",
   "execution_count": 10,
   "id": "121c350b",
   "metadata": {},
   "outputs": [],
   "source": [
    "# Another way to load the data"
   ]
  },
  {
   "cell_type": "code",
   "execution_count": 11,
   "id": "6808e0e9",
   "metadata": {},
   "outputs": [],
   "source": [
    "df_pyspark = spark.read.csv('/home/gourav/Documents/test.csv', header=True, inferSchema=True)"
   ]
  },
  {
   "cell_type": "code",
   "execution_count": 13,
   "id": "febdaaf1",
   "metadata": {},
   "outputs": [
    {
     "name": "stdout",
     "output_type": "stream",
     "text": [
      "+----+-------------+-----------+----------------+-----+------------+-------------+-----------+\n",
      "|  ID|    TimeStamp|Temperature|RelativeHumidity|Light|OxygenLevels|HumidityRatio|GTOccupancy|\n",
      "+----+-------------+-----------+----------------+-----+------------+-------------+-----------+\n",
      "|8041|10-02-15 7:51|      20.29|          33.045|    0|       449.0|  0.004867773|          0|\n",
      "| 642|05-02-15 4:32|      20.89|            24.2|    0|       448.0|  0.003692263|          0|\n",
      "+----+-------------+-----------+----------------+-----+------------+-------------+-----------+\n",
      "only showing top 2 rows\n",
      "\n"
     ]
    }
   ],
   "source": [
    "df_pyspark.show(2)"
   ]
  },
  {
   "cell_type": "code",
   "execution_count": 14,
   "id": "8d4fbb4c",
   "metadata": {},
   "outputs": [
    {
     "data": {
      "text/plain": [
       "pyspark.sql.dataframe.DataFrame"
      ]
     },
     "execution_count": 14,
     "metadata": {},
     "output_type": "execute_result"
    }
   ],
   "source": [
    "type(df_pyspark)"
   ]
  },
  {
   "cell_type": "code",
   "execution_count": 15,
   "id": "64b36e9a",
   "metadata": {},
   "outputs": [
    {
     "name": "stdout",
     "output_type": "stream",
     "text": [
      "root\n",
      " |-- ID: integer (nullable = true)\n",
      " |-- TimeStamp: string (nullable = true)\n",
      " |-- Temperature: double (nullable = true)\n",
      " |-- RelativeHumidity: double (nullable = true)\n",
      " |-- Light: integer (nullable = true)\n",
      " |-- OxygenLevels: double (nullable = true)\n",
      " |-- HumidityRatio: double (nullable = true)\n",
      " |-- GTOccupancy: integer (nullable = true)\n",
      "\n"
     ]
    }
   ],
   "source": [
    "df_pyspark.printSchema()"
   ]
  },
  {
   "cell_type": "code",
   "execution_count": 16,
   "id": "823eb718",
   "metadata": {},
   "outputs": [
    {
     "data": {
      "text/plain": [
       "['ID',\n",
       " 'TimeStamp',\n",
       " 'Temperature',\n",
       " 'RelativeHumidity',\n",
       " 'Light',\n",
       " 'OxygenLevels',\n",
       " 'HumidityRatio',\n",
       " 'GTOccupancy']"
      ]
     },
     "execution_count": 16,
     "metadata": {},
     "output_type": "execute_result"
    }
   ],
   "source": [
    "df_pyspark.columns"
   ]
  },
  {
   "cell_type": "code",
   "execution_count": 19,
   "id": "bf40b883",
   "metadata": {},
   "outputs": [
    {
     "name": "stdout",
     "output_type": "stream",
     "text": [
      "+----+\n",
      "|  ID|\n",
      "+----+\n",
      "|8041|\n",
      "| 642|\n",
      "|1243|\n",
      "|1803|\n",
      "|3834|\n",
      "|3545|\n",
      "|  88|\n",
      "|6005|\n",
      "|7400|\n",
      "|5726|\n",
      "|5221|\n",
      "|   3|\n",
      "|4593|\n",
      "|2055|\n",
      "|6591|\n",
      "|2238|\n",
      "| 739|\n",
      "|2748|\n",
      "|7236|\n",
      "|  21|\n",
      "+----+\n",
      "only showing top 20 rows\n",
      "\n"
     ]
    }
   ],
   "source": [
    "df_pyspark.select('ID').show()"
   ]
  },
  {
   "cell_type": "code",
   "execution_count": 20,
   "id": "25c0f9a3",
   "metadata": {},
   "outputs": [
    {
     "data": {
      "text/plain": [
       "pyspark.sql.dataframe.DataFrame"
      ]
     },
     "execution_count": 20,
     "metadata": {},
     "output_type": "execute_result"
    }
   ],
   "source": [
    "type(df_pyspark.select('ID'))"
   ]
  },
  {
   "cell_type": "code",
   "execution_count": 21,
   "id": "977946c7",
   "metadata": {},
   "outputs": [
    {
     "name": "stdout",
     "output_type": "stream",
     "text": [
      "+----+-----+\n",
      "|  ID|Light|\n",
      "+----+-----+\n",
      "|8041|    0|\n",
      "| 642|    0|\n",
      "|1243|  441|\n",
      "|1803|    0|\n",
      "|3834|  829|\n",
      "|3545|    0|\n",
      "|  88|    0|\n",
      "|6005|    0|\n",
      "|7400|    0|\n",
      "|5726|   17|\n",
      "|5221|   14|\n",
      "|   3|  426|\n",
      "|4593|    0|\n",
      "|2055|    0|\n",
      "|6591|    0|\n",
      "|2238|    0|\n",
      "| 739|    0|\n",
      "|2748|  494|\n",
      "|7236|    0|\n",
      "|  21|    0|\n",
      "+----+-----+\n",
      "only showing top 20 rows\n",
      "\n"
     ]
    }
   ],
   "source": [
    "df_pyspark.select(['ID','Light']).show()"
   ]
  },
  {
   "cell_type": "code",
   "execution_count": 23,
   "id": "1250873f",
   "metadata": {},
   "outputs": [
    {
     "data": {
      "text/plain": [
       "[('ID', 'int'),\n",
       " ('TimeStamp', 'string'),\n",
       " ('Temperature', 'double'),\n",
       " ('RelativeHumidity', 'double'),\n",
       " ('Light', 'int'),\n",
       " ('OxygenLevels', 'double'),\n",
       " ('HumidityRatio', 'double'),\n",
       " ('GTOccupancy', 'int')]"
      ]
     },
     "execution_count": 23,
     "metadata": {},
     "output_type": "execute_result"
    }
   ],
   "source": [
    "df_pyspark.dtypes"
   ]
  },
  {
   "cell_type": "code",
   "execution_count": 25,
   "id": "e0c14ce7",
   "metadata": {},
   "outputs": [
    {
     "name": "stdout",
     "output_type": "stream",
     "text": [
      "+-------+------------------+--------------+------------------+------------------+------------------+-----------------+--------------------+-------------------+\n",
      "|summary|                ID|     TimeStamp|       Temperature|  RelativeHumidity|             Light|     OxygenLevels|       HumidityRatio|        GTOccupancy|\n",
      "+-------+------------------+--------------+------------------+------------------+------------------+-----------------+--------------------+-------------------+\n",
      "|  count|                37|            37|                37|                37|                37|               37|                  37|                 37|\n",
      "|   mean|3557.3783783783783|          null|20.681554054054054|25.309549549729734| 95.35135135135135|578.1824324405407|0.003823931270270...|0.16216216216216217|\n",
      "| stddev|2545.7406513555075|          null| 1.056793794159559| 5.322368541365135|206.88016072330592|238.4752296157999|8.578258972956203E-4| 0.3736838766118223|\n",
      "|    min|                 3|04-02-15 17:53|              19.2|              18.6|                 0|            429.5|         0.002715358|                  0|\n",
      "|    max|              8041| 10-02-15 7:51|             23.15|              37.0|               829|      1545.666667|         0.005954158|                  1|\n",
      "+-------+------------------+--------------+------------------+------------------+------------------+-----------------+--------------------+-------------------+\n",
      "\n"
     ]
    }
   ],
   "source": [
    "df_pyspark.describe().show()"
   ]
  },
  {
   "cell_type": "code",
   "execution_count": 30,
   "id": "94ad87cf",
   "metadata": {},
   "outputs": [],
   "source": [
    "# Adding Columns in dataFrame\n",
    "df_pyspark = df_pyspark.withColumn('Temperature after 1 year', df_pyspark['Temperature']+2)"
   ]
  },
  {
   "cell_type": "code",
   "execution_count": 31,
   "id": "4ad723a5",
   "metadata": {},
   "outputs": [
    {
     "data": {
      "text/plain": [
       "['ID',\n",
       " 'TimeStamp',\n",
       " 'Temperature',\n",
       " 'RelativeHumidity',\n",
       " 'Light',\n",
       " 'OxygenLevels',\n",
       " 'HumidityRatio',\n",
       " 'GTOccupancy',\n",
       " 'Temperature after 1 year']"
      ]
     },
     "execution_count": 31,
     "metadata": {},
     "output_type": "execute_result"
    }
   ],
   "source": [
    "df_pyspark.columns"
   ]
  },
  {
   "cell_type": "code",
   "execution_count": 32,
   "id": "c60df264",
   "metadata": {},
   "outputs": [
    {
     "name": "stdout",
     "output_type": "stream",
     "text": [
      "+-----------+------------------------+\n",
      "|Temperature|Temperature after 1 year|\n",
      "+-----------+------------------------+\n",
      "|      20.29|                   22.29|\n",
      "|      20.89|                   22.89|\n",
      "|      22.23|                   24.23|\n",
      "|      20.29|                   22.29|\n",
      "|      20.76|                   22.76|\n",
      "|     19.745|                  21.745|\n",
      "|       22.1|                    24.1|\n",
      "|       19.5|                    21.5|\n",
      "|       20.5|                    22.5|\n",
      "|     19.445|                  21.445|\n",
      "|       19.2|                    21.2|\n",
      "|      23.15|                   25.15|\n",
      "|      19.79|                   21.79|\n",
      "|       20.5|                    22.5|\n",
      "|       19.5|                    21.5|\n",
      "|       20.2|                    22.2|\n",
      "|      20.89|                   22.89|\n",
      "|       22.1|                    24.1|\n",
      "|       21.7|                    23.7|\n",
      "|      22.89|                   24.89|\n",
      "+-----------+------------------------+\n",
      "only showing top 20 rows\n",
      "\n"
     ]
    }
   ],
   "source": [
    "df_pyspark.select(['Temperature', 'Temperature after 1 year']).show()"
   ]
  },
  {
   "cell_type": "code",
   "execution_count": 34,
   "id": "10bd6b9f",
   "metadata": {},
   "outputs": [],
   "source": [
    "# Drop the columns\n",
    "df_pyspark= df_pyspark.drop('Temperature after 1 year')"
   ]
  },
  {
   "cell_type": "code",
   "execution_count": 36,
   "id": "3d316e44",
   "metadata": {
    "scrolled": true
   },
   "outputs": [
    {
     "name": "stdout",
     "output_type": "stream",
     "text": [
      "+----+--------------+-----------+----------------+-----+------------+-------------+-----------+\n",
      "|  ID|     TimeStamp|Temperature|RelativeHumidity|Light|OxygenLevels|HumidityRatio|GTOccupancy|\n",
      "+----+--------------+-----------+----------------+-----+------------+-------------+-----------+\n",
      "|8041| 10-02-15 7:51|      20.29|          33.045|    0|       449.0|  0.004867773|          0|\n",
      "| 642| 05-02-15 4:32|      20.89|            24.2|    0|       448.0|  0.003692263|          0|\n",
      "|1243|05-02-15 14:32|      22.23|           27.73|  441|       932.0|  0.004599115|          1|\n",
      "|1803|05-02-15 23:53|      20.29|           21.29|    0|       443.0|  0.003127468|          0|\n",
      "|3834| 07-02-15 9:43|      20.76|     18.85666667|  829| 452.6666667|  0.002850246|          0|\n",
      "|3545| 07-02-15 4:54|     19.745|           19.39|    0|       441.0|  0.002752165|          0|\n",
      "|  88|04-02-15 19:18|       22.1|          27.245|    0|       584.5|  0.004482195|          0|\n",
      "|6005|08-02-15 21:55|       19.5|            27.6|    0|       451.5|   0.00386517|          0|\n",
      "|7400|09-02-15 21:10|       20.5|            33.9|    0|       740.0|  0.005060459|          0|\n",
      "|5726|08-02-15 17:16|     19.445|            27.2|   17|       434.5|  0.003795723|          0|\n",
      "|5221| 08-02-15 8:51|       19.2|     31.16666667|   14|       437.0|  0.004286778|          0|\n",
      "|   3|04-02-15 17:53|      23.15|          27.245|  426|       713.5|  0.004779464|          1|\n",
      "|4593|07-02-15 22:23|      19.79|           27.79|    0|       437.0|  0.003963136|          0|\n",
      "|2055| 06-02-15 4:05|       20.5|          18.745|    0|       434.5|   0.00278804|          0|\n",
      "|6591| 09-02-15 7:40|       19.5|            26.2|    0|       473.0|  0.003667954|          0|\n",
      "|2238| 06-02-15 7:08|       20.2|            18.6|    0|       433.0|  0.002715358|          0|\n",
      "| 739| 05-02-15 6:08|      20.89|           23.29|    0|       448.0|  0.003552629|          0|\n",
      "|2748|06-02-15 15:38|       22.1|          21.225|  494|       884.5|  0.003486267|          1|\n",
      "|7236|09-02-15 18:26|       21.7|            37.0|    0| 1545.666667|  0.005954158|          0|\n",
      "|  21|04-02-15 18:10|      22.89|           27.39|    0|       689.5|  0.004729506|          0|\n",
      "+----+--------------+-----------+----------------+-----+------------+-------------+-----------+\n",
      "only showing top 20 rows\n",
      "\n"
     ]
    }
   ],
   "source": [
    "df_pyspark.show()"
   ]
  },
  {
   "cell_type": "code",
   "execution_count": 39,
   "id": "1967a80e",
   "metadata": {},
   "outputs": [],
   "source": [
    "# Rename the columns\n",
    "df_pyspark = df_pyspark.withColumnRenamed('Temperature', 'Temperature change')"
   ]
  },
  {
   "cell_type": "code",
   "execution_count": 40,
   "id": "e49f1395",
   "metadata": {},
   "outputs": [
    {
     "data": {
      "text/plain": [
       "['ID',\n",
       " 'TimeStamp',\n",
       " 'Temperature change',\n",
       " 'RelativeHumidity',\n",
       " 'Light',\n",
       " 'OxygenLevels',\n",
       " 'HumidityRatio',\n",
       " 'GTOccupancy']"
      ]
     },
     "execution_count": 40,
     "metadata": {},
     "output_type": "execute_result"
    }
   ],
   "source": [
    "df_pyspark.columns"
   ]
  },
  {
   "cell_type": "markdown",
   "id": "633a78c2",
   "metadata": {},
   "source": [
    "# Pyspark handling Missing Values"
   ]
  },
  {
   "cell_type": "code",
   "execution_count": 1,
   "id": "9da90989",
   "metadata": {},
   "outputs": [],
   "source": [
    "from pyspark.sql import SparkSession\n",
    "spark = SparkSession.builder.appName('Practise').getOrCreate()"
   ]
  },
  {
   "cell_type": "code",
   "execution_count": 2,
   "id": "6ff2c036",
   "metadata": {},
   "outputs": [
    {
     "data": {
      "text/html": [
       "\n",
       "            <div>\n",
       "                <p><b>SparkSession - in-memory</b></p>\n",
       "                \n",
       "        <div>\n",
       "            <p><b>SparkContext</b></p>\n",
       "\n",
       "            <p><a href=\"http://192.168.43.210:4040\">Spark UI</a></p>\n",
       "\n",
       "            <dl>\n",
       "              <dt>Version</dt>\n",
       "                <dd><code>v3.1.2</code></dd>\n",
       "              <dt>Master</dt>\n",
       "                <dd><code>local[*]</code></dd>\n",
       "              <dt>AppName</dt>\n",
       "                <dd><code>Practise</code></dd>\n",
       "            </dl>\n",
       "        </div>\n",
       "        \n",
       "            </div>\n",
       "        "
      ],
      "text/plain": [
       "<pyspark.sql.session.SparkSession at 0x7f37a9454820>"
      ]
     },
     "execution_count": 2,
     "metadata": {},
     "output_type": "execute_result"
    }
   ],
   "source": [
    "spark"
   ]
  },
  {
   "cell_type": "code",
   "execution_count": 3,
   "id": "afcc46a7",
   "metadata": {},
   "outputs": [],
   "source": [
    "df_pyspark = spark.read.csv('/home/gourav/Documents/test.csv', header=True,\n",
    "                           inferSchema=True)"
   ]
  },
  {
   "cell_type": "code",
   "execution_count": 5,
   "id": "1fc7cc35",
   "metadata": {},
   "outputs": [
    {
     "name": "stdout",
     "output_type": "stream",
     "text": [
      "+----+-------------+-----------+----------------+-----+------------+-------------+-----------+\n",
      "|  ID|    TimeStamp|Temperature|RelativeHumidity|Light|OxygenLevels|HumidityRatio|GTOccupancy|\n",
      "+----+-------------+-----------+----------------+-----+------------+-------------+-----------+\n",
      "|8041|10-02-15 7:51|      20.29|          33.045|    0|       449.0|  0.004867773|          0|\n",
      "| 642|05-02-15 4:32|      20.89|            24.2|    0|       448.0|  0.003692263|          0|\n",
      "+----+-------------+-----------+----------------+-----+------------+-------------+-----------+\n",
      "only showing top 2 rows\n",
      "\n"
     ]
    }
   ],
   "source": [
    "df_pyspark.show(2)"
   ]
  },
  {
   "cell_type": "code",
   "execution_count": 8,
   "id": "df988d38",
   "metadata": {},
   "outputs": [
    {
     "name": "stdout",
     "output_type": "stream",
     "text": [
      "+-------------+-----------+----------------+-----+------------+-------------+-----------+\n",
      "|    TimeStamp|Temperature|RelativeHumidity|Light|OxygenLevels|HumidityRatio|GTOccupancy|\n",
      "+-------------+-----------+----------------+-----+------------+-------------+-----------+\n",
      "|10-02-15 7:51|      20.29|          33.045|    0|       449.0|  0.004867773|          0|\n",
      "|05-02-15 4:32|      20.89|            24.2|    0|       448.0|  0.003692263|          0|\n",
      "+-------------+-----------+----------------+-----+------------+-------------+-----------+\n",
      "only showing top 2 rows\n",
      "\n"
     ]
    }
   ],
   "source": [
    "# Drop the columns\n",
    "df_pyspark.drop('ID').show(2)"
   ]
  },
  {
   "cell_type": "code",
   "execution_count": 11,
   "id": "92ec3278",
   "metadata": {},
   "outputs": [
    {
     "name": "stdout",
     "output_type": "stream",
     "text": [
      "+----+--------------+-----------+----------------+-----+------------+-------------+-----------+\n",
      "|  ID|     TimeStamp|Temperature|RelativeHumidity|Light|OxygenLevels|HumidityRatio|GTOccupancy|\n",
      "+----+--------------+-----------+----------------+-----+------------+-------------+-----------+\n",
      "|8041| 10-02-15 7:51|      20.29|          33.045|    0|       449.0|  0.004867773|          0|\n",
      "| 642| 05-02-15 4:32|      20.89|            24.2|    0|       448.0|  0.003692263|          0|\n",
      "|1243|05-02-15 14:32|      22.23|           27.73|  441|       932.0|  0.004599115|          1|\n",
      "|1803|05-02-15 23:53|      20.29|           21.29|    0|       443.0|  0.003127468|          0|\n",
      "|3834| 07-02-15 9:43|      20.76|     18.85666667|  829| 452.6666667|  0.002850246|          0|\n",
      "|3545| 07-02-15 4:54|     19.745|           19.39|    0|       441.0|  0.002752165|          0|\n",
      "|  88|04-02-15 19:18|       22.1|          27.245|    0|       584.5|  0.004482195|          0|\n",
      "|6005|08-02-15 21:55|       19.5|            27.6|    0|       451.5|   0.00386517|          0|\n",
      "|7400|09-02-15 21:10|       20.5|            33.9|    0|       740.0|  0.005060459|          0|\n",
      "|5726|08-02-15 17:16|     19.445|            27.2|   17|       434.5|  0.003795723|          0|\n",
      "|5221| 08-02-15 8:51|       19.2|     31.16666667|   14|       437.0|  0.004286778|          0|\n",
      "|   3|04-02-15 17:53|      23.15|          27.245|  426|       713.5|  0.004779464|          1|\n",
      "|4593|07-02-15 22:23|      19.79|           27.79|    0|       437.0|  0.003963136|          0|\n",
      "|2055| 06-02-15 4:05|       20.5|          18.745|    0|       434.5|   0.00278804|          0|\n",
      "|6591| 09-02-15 7:40|       19.5|            26.2|    0|       473.0|  0.003667954|          0|\n",
      "|2238| 06-02-15 7:08|       20.2|            18.6|    0|       433.0|  0.002715358|          0|\n",
      "| 739| 05-02-15 6:08|      20.89|           23.29|    0|       448.0|  0.003552629|          0|\n",
      "|2748|06-02-15 15:38|       22.1|          21.225|  494|       884.5|  0.003486267|          1|\n",
      "|7236|09-02-15 18:26|       21.7|            37.0|    0| 1545.666667|  0.005954158|          0|\n",
      "|  21|04-02-15 18:10|      22.89|           27.39|    0|       689.5|  0.004729506|          0|\n",
      "+----+--------------+-----------+----------------+-----+------------+-------------+-----------+\n",
      "only showing top 20 rows\n",
      "\n"
     ]
    }
   ],
   "source": [
    "# Drop row based on Null value\n",
    "df_pyspark.na.drop().show()"
   ]
  },
  {
   "cell_type": "code",
   "execution_count": 12,
   "id": "e0f1bcaf",
   "metadata": {},
   "outputs": [
    {
     "data": {
      "text/plain": [
       "DataFrame[ID: int, TimeStamp: string, Temperature: double, RelativeHumidity: double, Light: int, OxygenLevels: double, HumidityRatio: double, GTOccupancy: int]"
      ]
     },
     "execution_count": 12,
     "metadata": {},
     "output_type": "execute_result"
    }
   ],
   "source": [
    "# any==how\n",
    "# if full row has only na\n",
    "#df_pyspark.na.drop(how='all')\n",
    "df_pyspark.na.drop(how='any')"
   ]
  },
  {
   "cell_type": "code",
   "execution_count": 13,
   "id": "4635341c",
   "metadata": {},
   "outputs": [
    {
     "data": {
      "text/plain": [
       "DataFrame[ID: int, TimeStamp: string, Temperature: double, RelativeHumidity: double, Light: int, OxygenLevels: double, HumidityRatio: double, GTOccupancy: int]"
      ]
     },
     "execution_count": 13,
     "metadata": {},
     "output_type": "execute_result"
    }
   ],
   "source": [
    "#thershold : at least this many value should present\n",
    "df_pyspark.na.drop(thresh=2)"
   ]
  },
  {
   "cell_type": "code",
   "execution_count": 14,
   "id": "6b7d552d",
   "metadata": {},
   "outputs": [
    {
     "data": {
      "text/plain": [
       "DataFrame[ID: int, TimeStamp: string, Temperature: double, RelativeHumidity: double, Light: int, OxygenLevels: double, HumidityRatio: double, GTOccupancy: int]"
      ]
     },
     "execution_count": 14,
     "metadata": {},
     "output_type": "execute_result"
    }
   ],
   "source": [
    "# Subset: if there is na in specific column drop that\n",
    "df_pyspark.na.drop(how='any', subset=['Temperature'])"
   ]
  },
  {
   "cell_type": "code",
   "execution_count": 15,
   "id": "f38a3a32",
   "metadata": {},
   "outputs": [
    {
     "data": {
      "text/plain": [
       "DataFrame[ID: int, TimeStamp: string, Temperature: double, RelativeHumidity: double, Light: int, OxygenLevels: double, HumidityRatio: double, GTOccupancy: int]"
      ]
     },
     "execution_count": 15,
     "metadata": {},
     "output_type": "execute_result"
    }
   ],
   "source": [
    "## Filling the missing value\n",
    "df_pyspark.na.fill(\"ANy value\")"
   ]
  },
  {
   "cell_type": "code",
   "execution_count": 20,
   "id": "b8674acc",
   "metadata": {},
   "outputs": [],
   "source": [
    "# Imputer value\n",
    "\n",
    "from pyspark.ml.feature import Imputer\n",
    "\n",
    "imputer = Imputer(inputCols=['Temperature','RelativeHumidity','OxygenLevels'],\n",
    "                 outputCols=[\"{}_imputed\".format(c) for c in ['Temperature','RelativeHumidity','OxygenLevels']]\n",
    "                 ).setStrategy(\"mean\")"
   ]
  },
  {
   "cell_type": "code",
   "execution_count": 21,
   "id": "418e17ee",
   "metadata": {},
   "outputs": [
    {
     "name": "stdout",
     "output_type": "stream",
     "text": [
      "+----+--------------+-----------+----------------+-----+------------+-------------+-----------+-------------------+------------------------+--------------------+\n",
      "|  ID|     TimeStamp|Temperature|RelativeHumidity|Light|OxygenLevels|HumidityRatio|GTOccupancy|Temperature_imputed|RelativeHumidity_imputed|OxygenLevels_imputed|\n",
      "+----+--------------+-----------+----------------+-----+------------+-------------+-----------+-------------------+------------------------+--------------------+\n",
      "|8041| 10-02-15 7:51|      20.29|          33.045|    0|       449.0|  0.004867773|          0|              20.29|                  33.045|               449.0|\n",
      "| 642| 05-02-15 4:32|      20.89|            24.2|    0|       448.0|  0.003692263|          0|              20.89|                    24.2|               448.0|\n",
      "|1243|05-02-15 14:32|      22.23|           27.73|  441|       932.0|  0.004599115|          1|              22.23|                   27.73|               932.0|\n",
      "|1803|05-02-15 23:53|      20.29|           21.29|    0|       443.0|  0.003127468|          0|              20.29|                   21.29|               443.0|\n",
      "|3834| 07-02-15 9:43|      20.76|     18.85666667|  829| 452.6666667|  0.002850246|          0|              20.76|             18.85666667|         452.6666667|\n",
      "|3545| 07-02-15 4:54|     19.745|           19.39|    0|       441.0|  0.002752165|          0|             19.745|                   19.39|               441.0|\n",
      "|  88|04-02-15 19:18|       22.1|          27.245|    0|       584.5|  0.004482195|          0|               22.1|                  27.245|               584.5|\n",
      "|6005|08-02-15 21:55|       19.5|            27.6|    0|       451.5|   0.00386517|          0|               19.5|                    27.6|               451.5|\n",
      "|7400|09-02-15 21:10|       20.5|            33.9|    0|       740.0|  0.005060459|          0|               20.5|                    33.9|               740.0|\n",
      "|5726|08-02-15 17:16|     19.445|            27.2|   17|       434.5|  0.003795723|          0|             19.445|                    27.2|               434.5|\n",
      "|5221| 08-02-15 8:51|       19.2|     31.16666667|   14|       437.0|  0.004286778|          0|               19.2|             31.16666667|               437.0|\n",
      "|   3|04-02-15 17:53|      23.15|          27.245|  426|       713.5|  0.004779464|          1|              23.15|                  27.245|               713.5|\n",
      "|4593|07-02-15 22:23|      19.79|           27.79|    0|       437.0|  0.003963136|          0|              19.79|                   27.79|               437.0|\n",
      "|2055| 06-02-15 4:05|       20.5|          18.745|    0|       434.5|   0.00278804|          0|               20.5|                  18.745|               434.5|\n",
      "|6591| 09-02-15 7:40|       19.5|            26.2|    0|       473.0|  0.003667954|          0|               19.5|                    26.2|               473.0|\n",
      "|2238| 06-02-15 7:08|       20.2|            18.6|    0|       433.0|  0.002715358|          0|               20.2|                    18.6|               433.0|\n",
      "| 739| 05-02-15 6:08|      20.89|           23.29|    0|       448.0|  0.003552629|          0|              20.89|                   23.29|               448.0|\n",
      "|2748|06-02-15 15:38|       22.1|          21.225|  494|       884.5|  0.003486267|          1|               22.1|                  21.225|               884.5|\n",
      "|7236|09-02-15 18:26|       21.7|            37.0|    0| 1545.666667|  0.005954158|          0|               21.7|                    37.0|         1545.666667|\n",
      "|  21|04-02-15 18:10|      22.89|           27.39|    0|       689.5|  0.004729506|          0|              22.89|                   27.39|               689.5|\n",
      "+----+--------------+-----------+----------------+-----+------------+-------------+-----------+-------------------+------------------------+--------------------+\n",
      "only showing top 20 rows\n",
      "\n"
     ]
    }
   ],
   "source": [
    "# Add imputation cols of df\n",
    "imputer.fit(df_pyspark).transform(df_pyspark).show()"
   ]
  },
  {
   "cell_type": "markdown",
   "id": "d5a738be",
   "metadata": {},
   "source": [
    "# FIlter Operations"
   ]
  },
  {
   "cell_type": "code",
   "execution_count": 1,
   "id": "e75ebcba",
   "metadata": {},
   "outputs": [],
   "source": [
    "from pyspark.sql import SparkSession\n",
    "spark = SparkSession.builder.appName('filter').getOrCreate()"
   ]
  },
  {
   "cell_type": "code",
   "execution_count": 2,
   "id": "fbb5b269",
   "metadata": {},
   "outputs": [],
   "source": [
    "df_pyspark = spark.read.csv('/home/gourav/Documents/test.csv', header=True,\n",
    "                           inferSchema=True)"
   ]
  },
  {
   "cell_type": "code",
   "execution_count": 3,
   "id": "b3c94a77",
   "metadata": {},
   "outputs": [
    {
     "name": "stdout",
     "output_type": "stream",
     "text": [
      "+----+--------------+-----------+----------------+-----+------------+-------------+-----------+\n",
      "|  ID|     TimeStamp|Temperature|RelativeHumidity|Light|OxygenLevels|HumidityRatio|GTOccupancy|\n",
      "+----+--------------+-----------+----------------+-----+------------+-------------+-----------+\n",
      "|8041| 10-02-15 7:51|      20.29|          33.045|    0|       449.0|  0.004867773|          0|\n",
      "| 642| 05-02-15 4:32|      20.89|            24.2|    0|       448.0|  0.003692263|          0|\n",
      "|1243|05-02-15 14:32|      22.23|           27.73|  441|       932.0|  0.004599115|          1|\n",
      "+----+--------------+-----------+----------------+-----+------------+-------------+-----------+\n",
      "only showing top 3 rows\n",
      "\n"
     ]
    }
   ],
   "source": [
    "df_pyspark.show(3)"
   ]
  },
  {
   "cell_type": "code",
   "execution_count": 4,
   "id": "ba5631ea",
   "metadata": {},
   "outputs": [
    {
     "name": "stdout",
     "output_type": "stream",
     "text": [
      "+----+--------------+-----------+----------------+-----+------------+-------------+-----------+\n",
      "|  ID|     TimeStamp|Temperature|RelativeHumidity|Light|OxygenLevels|HumidityRatio|GTOccupancy|\n",
      "+----+--------------+-----------+----------------+-----+------------+-------------+-----------+\n",
      "|8041| 10-02-15 7:51|      20.29|          33.045|    0|       449.0|  0.004867773|          0|\n",
      "| 642| 05-02-15 4:32|      20.89|            24.2|    0|       448.0|  0.003692263|          0|\n",
      "|1803|05-02-15 23:53|      20.29|           21.29|    0|       443.0|  0.003127468|          0|\n",
      "+----+--------------+-----------+----------------+-----+------------+-------------+-----------+\n",
      "only showing top 3 rows\n",
      "\n"
     ]
    }
   ],
   "source": [
    "# Filter Operation\n",
    "# Temp <=21\n",
    "df_pyspark.filter('Temperature <=21').show(3)"
   ]
  },
  {
   "cell_type": "code",
   "execution_count": 5,
   "id": "e8a08311",
   "metadata": {
    "scrolled": true
   },
   "outputs": [
    {
     "name": "stdout",
     "output_type": "stream",
     "text": [
      "+----------------+-----+\n",
      "|RelativeHumidity|Light|\n",
      "+----------------+-----+\n",
      "|          33.045|    0|\n",
      "|            24.2|    0|\n",
      "|           21.29|    0|\n",
      "|     18.85666667|  829|\n",
      "|           19.39|    0|\n",
      "|            27.6|    0|\n",
      "|            33.9|    0|\n",
      "|            27.2|   17|\n",
      "|     31.16666667|   14|\n",
      "|           27.79|    0|\n",
      "|          18.745|    0|\n",
      "|            26.2|    0|\n",
      "|            18.6|    0|\n",
      "|           23.29|    0|\n",
      "|           18.89|    0|\n",
      "|           18.89|    0|\n",
      "|           22.89|    0|\n",
      "|           25.15|    0|\n",
      "|            33.0|    0|\n",
      "|           19.39|    0|\n",
      "+----------------+-----+\n",
      "only showing top 20 rows\n",
      "\n"
     ]
    }
   ],
   "source": [
    "df_pyspark.filter('Temperature <=21').select(['RelativeHumidity','Light']).show()"
   ]
  },
  {
   "cell_type": "code",
   "execution_count": 6,
   "id": "5a3c3cee",
   "metadata": {
    "scrolled": true
   },
   "outputs": [
    {
     "name": "stdout",
     "output_type": "stream",
     "text": [
      "+----+--------------+-----------+----------------+-----+------------+-------------+-----------+\n",
      "|  ID|     TimeStamp|Temperature|RelativeHumidity|Light|OxygenLevels|HumidityRatio|GTOccupancy|\n",
      "+----+--------------+-----------+----------------+-----+------------+-------------+-----------+\n",
      "|8041| 10-02-15 7:51|      20.29|          33.045|    0|       449.0|  0.004867773|          0|\n",
      "|6005|08-02-15 21:55|       19.5|            27.6|    0|       451.5|   0.00386517|          0|\n",
      "|7400|09-02-15 21:10|       20.5|            33.9|    0|       740.0|  0.005060459|          0|\n",
      "|5726|08-02-15 17:16|     19.445|            27.2|   17|       434.5|  0.003795723|          0|\n",
      "|5221| 08-02-15 8:51|       19.2|     31.16666667|   14|       437.0|  0.004286778|          0|\n",
      "|4593|07-02-15 22:23|      19.79|           27.79|    0|       437.0|  0.003963136|          0|\n",
      "|6591| 09-02-15 7:40|       19.5|            26.2|    0|       473.0|  0.003667954|          0|\n",
      "|4466|07-02-15 20:16|      20.05|           25.15|    0|       443.0|   0.00364305|          0|\n",
      "|7894| 10-02-15 5:23|       20.2|            33.0|    0|       447.0|  0.004833908|          0|\n",
      "|5922|08-02-15 20:31|      19.39|            27.5|    0|       445.0|  0.003824654|          0|\n",
      "|7362|09-02-15 20:31|       20.5|           34.59|    0|       868.5|  0.005164315|          0|\n",
      "|4629|07-02-15 22:59|       19.6|            28.6|    0|       435.0|  0.004031255|          0|\n",
      "|7983| 10-02-15 6:53|       20.2|           33.06|    0| 443.3333333|  0.004842766|          0|\n",
      "+----+--------------+-----------+----------------+-----+------------+-------------+-----------+\n",
      "\n"
     ]
    }
   ],
   "source": [
    "df_pyspark.filter((df_pyspark['Temperature']<=21)&\n",
    "                  (df_pyspark['RelativeHumidity']>=25)).show()"
   ]
  },
  {
   "cell_type": "markdown",
   "id": "87636f50",
   "metadata": {},
   "source": [
    "# Group By and Aggregate "
   ]
  },
  {
   "cell_type": "code",
   "execution_count": 7,
   "id": "861f4346",
   "metadata": {
    "scrolled": true
   },
   "outputs": [
    {
     "name": "stdout",
     "output_type": "stream",
     "text": [
      "+------------+-------+------------------+---------------------+----------+-----------------+--------------------+----------------+\n",
      "|OxygenLevels|sum(ID)|  sum(Temperature)|sum(RelativeHumidity)|sum(Light)|sum(OxygenLevels)|  sum(HumidityRatio)|sum(GTOccupancy)|\n",
      "+------------+-------+------------------+---------------------+----------+-----------------+--------------------+----------------+\n",
      "|       451.5|   6005|              19.5|                 27.6|         0|            451.5|          0.00386517|               0|\n",
      "|       868.5|   7362|              20.5|                34.59|         0|            868.5|         0.005164315|               0|\n",
      "|       449.0|   8041|             20.29|               33.045|         0|            449.0|         0.004867773|               0|\n",
      "|       443.0|   6269|             40.34|                46.44|         0|            886.0|         0.006770518|               0|\n",
      "|       445.0|   5922|             19.39|                 27.5|         0|            445.0|         0.003824654|               0|\n",
      "|       437.0|   9814|38.989999999999995|   58.956666670000004|        14|            874.0|         0.008249914|               0|\n",
      "|       434.5|   7781|            39.945|               45.945|        17|            869.0|0.006583762999999999|               0|\n",
      "| 452.6666667|   3834|             20.76|          18.85666667|       829|      452.6666667|         0.002850246|               0|\n",
      "|       584.5|     88|              22.1|               27.245|         0|            584.5|         0.004482195|               0|\n",
      "|       740.0|   7400|              20.5|                 33.9|         0|            740.0|         0.005060459|               0|\n",
      "|       437.5|   3479|             19.79|               19.245|         0|            437.5|         0.002739166|               0|\n",
      "|       448.0|   1381|             41.78|   47.489999999999995|         0|            896.0|0.007244891999999999|               0|\n",
      "|     1002.75|   1399|           22.2675|               25.575|       433|          1002.75|         0.004249021|               1|\n",
      "|       435.0|   4629|              19.6|                 28.6|         0|            435.0|         0.004031255|               0|\n",
      "|       429.5|   2021|              20.5|                18.89|         0|            429.5|         0.002809704|               0|\n",
      "|       473.0|   6591|              19.5|                 26.2|         0|            473.0|         0.003667954|               0|\n",
      "|       433.0|   2238|              20.2|                 18.6|         0|            433.0|         0.002715358|               0|\n",
      "|       483.5|   1591|              21.2|                19.34|         0|            483.5|         0.003004198|               0|\n",
      "|       780.5|   2899|             21.65|               20.795|         0|            780.5|         0.003322199|               0|\n",
      "| 431.6666667|   2039|       20.42666667|                18.89|         0|      431.6666667|         0.002796958|               0|\n",
      "+------------+-------+------------------+---------------------+----------+-----------------+--------------------+----------------+\n",
      "only showing top 20 rows\n",
      "\n"
     ]
    }
   ],
   "source": [
    "# Groupby\n",
    "df_pyspark.groupBy('OxygenLevels').sum().show()"
   ]
  },
  {
   "cell_type": "code",
   "execution_count": 8,
   "id": "691c3b6b",
   "metadata": {
    "scrolled": true
   },
   "outputs": [
    {
     "name": "stdout",
     "output_type": "stream",
     "text": [
      "+------------+-------+------------------+---------------------+----------+-----------------+--------------------+----------------+\n",
      "|OxygenLevels|avg(ID)|  avg(Temperature)|avg(RelativeHumidity)|avg(Light)|avg(OxygenLevels)|  avg(HumidityRatio)|avg(GTOccupancy)|\n",
      "+------------+-------+------------------+---------------------+----------+-----------------+--------------------+----------------+\n",
      "|       451.5| 6005.0|              19.5|                 27.6|       0.0|            451.5|          0.00386517|             0.0|\n",
      "|       868.5| 7362.0|              20.5|                34.59|       0.0|            868.5|         0.005164315|             0.0|\n",
      "|       449.0| 8041.0|             20.29|               33.045|       0.0|            449.0|         0.004867773|             0.0|\n",
      "|       443.0| 3134.5|             20.17|                23.22|       0.0|            443.0|         0.003385259|             0.0|\n",
      "|       445.0| 5922.0|             19.39|                 27.5|       0.0|            445.0|         0.003824654|             0.0|\n",
      "|       437.0| 4907.0|19.494999999999997|   29.478333335000002|       7.0|            437.0|         0.004124957|             0.0|\n",
      "|       434.5| 3890.5|           19.9725|              22.9725|       8.5|            434.5|0.003291881499999...|             0.0|\n",
      "| 452.6666667| 3834.0|             20.76|          18.85666667|     829.0|      452.6666667|         0.002850246|             0.0|\n",
      "|       584.5|   88.0|              22.1|               27.245|       0.0|            584.5|         0.004482195|             0.0|\n",
      "|       740.0| 7400.0|              20.5|                 33.9|       0.0|            740.0|         0.005060459|             0.0|\n",
      "|       437.5| 3479.0|             19.79|               19.245|       0.0|            437.5|         0.002739166|             0.0|\n",
      "|       448.0|  690.5|             20.89|   23.744999999999997|       0.0|            448.0|0.003622445999999...|             0.0|\n",
      "|     1002.75| 1399.0|           22.2675|               25.575|     433.0|          1002.75|         0.004249021|             1.0|\n",
      "|       435.0| 4629.0|              19.6|                 28.6|       0.0|            435.0|         0.004031255|             0.0|\n",
      "|       429.5| 2021.0|              20.5|                18.89|       0.0|            429.5|         0.002809704|             0.0|\n",
      "|       473.0| 6591.0|              19.5|                 26.2|       0.0|            473.0|         0.003667954|             0.0|\n",
      "|       433.0| 2238.0|              20.2|                 18.6|       0.0|            433.0|         0.002715358|             0.0|\n",
      "|       483.5| 1591.0|              21.2|                19.34|       0.0|            483.5|         0.003004198|             0.0|\n",
      "|       780.5| 2899.0|             21.65|               20.795|       0.0|            780.5|         0.003322199|             0.0|\n",
      "| 431.6666667| 2039.0|       20.42666667|                18.89|       0.0|      431.6666667|         0.002796958|             0.0|\n",
      "+------------+-------+------------------+---------------------+----------+-----------------+--------------------+----------------+\n",
      "only showing top 20 rows\n",
      "\n"
     ]
    }
   ],
   "source": [
    "df_pyspark.groupBy('OxygenLevels').mean().show()"
   ]
  },
  {
   "cell_type": "code",
   "execution_count": 9,
   "id": "71f91fea",
   "metadata": {
    "scrolled": true
   },
   "outputs": [
    {
     "name": "stdout",
     "output_type": "stream",
     "text": [
      "+------------+-----+\n",
      "|OxygenLevels|count|\n",
      "+------------+-----+\n",
      "|       451.5|    1|\n",
      "|       868.5|    1|\n",
      "|       449.0|    1|\n",
      "|       443.0|    2|\n",
      "|       445.0|    1|\n",
      "|       437.0|    2|\n",
      "|       434.5|    2|\n",
      "| 452.6666667|    1|\n",
      "|       584.5|    1|\n",
      "|       740.0|    1|\n",
      "|       437.5|    1|\n",
      "|       448.0|    2|\n",
      "|     1002.75|    1|\n",
      "|       435.0|    1|\n",
      "|       429.5|    1|\n",
      "|       473.0|    1|\n",
      "|       433.0|    1|\n",
      "|       483.5|    1|\n",
      "|       780.5|    1|\n",
      "| 431.6666667|    1|\n",
      "+------------+-----+\n",
      "only showing top 20 rows\n",
      "\n"
     ]
    }
   ],
   "source": [
    "df_pyspark.groupBy('OxygenLevels').count().show()"
   ]
  },
  {
   "cell_type": "code",
   "execution_count": 10,
   "id": "d7983077",
   "metadata": {},
   "outputs": [
    {
     "name": "stdout",
     "output_type": "stream",
     "text": [
      "+------------------+\n",
      "| sum(OxygenLevels)|\n",
      "+------------------+\n",
      "|21392.750000300002|\n",
      "+------------------+\n",
      "\n"
     ]
    }
   ],
   "source": [
    "# Aggregate\n",
    "df_pyspark.agg({'OxygenLevels':'sum'}).show()"
   ]
  },
  {
   "cell_type": "markdown",
   "id": "46d3d3e1",
   "metadata": {},
   "source": [
    "# MLib"
   ]
  },
  {
   "cell_type": "markdown",
   "id": "46238461",
   "metadata": {},
   "source": [
    "<h3> DataFrame API </h3>"
   ]
  },
  {
   "cell_type": "code",
   "execution_count": 1,
   "id": "0d9ae2ba",
   "metadata": {},
   "outputs": [],
   "source": [
    "from pyspark.sql import SparkSession\n",
    "spark = SparkSession.builder.appName('Mlib').getOrCreate()"
   ]
  },
  {
   "cell_type": "code",
   "execution_count": 2,
   "id": "a86534ae",
   "metadata": {},
   "outputs": [
    {
     "data": {
      "text/html": [
       "\n",
       "            <div>\n",
       "                <p><b>SparkSession - in-memory</b></p>\n",
       "                \n",
       "        <div>\n",
       "            <p><b>SparkContext</b></p>\n",
       "\n",
       "            <p><a href=\"http://192.168.43.210:4040\">Spark UI</a></p>\n",
       "\n",
       "            <dl>\n",
       "              <dt>Version</dt>\n",
       "                <dd><code>v3.1.2</code></dd>\n",
       "              <dt>Master</dt>\n",
       "                <dd><code>local[*]</code></dd>\n",
       "              <dt>AppName</dt>\n",
       "                <dd><code>Mlib</code></dd>\n",
       "            </dl>\n",
       "        </div>\n",
       "        \n",
       "            </div>\n",
       "        "
      ],
      "text/plain": [
       "<pyspark.sql.session.SparkSession at 0x7fbe2b30ddf0>"
      ]
     },
     "execution_count": 2,
     "metadata": {},
     "output_type": "execute_result"
    }
   ],
   "source": [
    "spark"
   ]
  },
  {
   "cell_type": "code",
   "execution_count": 3,
   "id": "c269bc4e",
   "metadata": {},
   "outputs": [],
   "source": [
    "#load Dataset\n",
    "training = spark.read.csv('test.csv',header=True,inferSchema=True)"
   ]
  },
  {
   "cell_type": "code",
   "execution_count": 4,
   "id": "ab3be8b0",
   "metadata": {},
   "outputs": [
    {
     "name": "stdout",
     "output_type": "stream",
     "text": [
      "+----+---+----------+------+\n",
      "|Name|age|Experience|Salary|\n",
      "+----+---+----------+------+\n",
      "|  Gk| 25|         2|  2000|\n",
      "|  An| 27|         3|  3000|\n",
      "|  Ni| 24|         2|  2300|\n",
      "|  Hu| 20|         1|  1000|\n",
      "|  Ha| 30|        20|  8000|\n",
      "|  Ki| 28|        12|  4500|\n",
      "|  we| 34|        22|  9000|\n",
      "| hum| 32|        17|  6000|\n",
      "+----+---+----------+------+\n",
      "\n"
     ]
    }
   ],
   "source": [
    "training.show()"
   ]
  },
  {
   "cell_type": "code",
   "execution_count": 5,
   "id": "0f663b87",
   "metadata": {},
   "outputs": [
    {
     "name": "stdout",
     "output_type": "stream",
     "text": [
      "root\n",
      " |-- Name: string (nullable = true)\n",
      " |-- age: integer (nullable = true)\n",
      " |-- Experience: integer (nullable = true)\n",
      " |-- Salary: integer (nullable = true)\n",
      "\n"
     ]
    }
   ],
   "source": [
    "training.printSchema()"
   ]
  },
  {
   "cell_type": "code",
   "execution_count": 6,
   "id": "c9eac846",
   "metadata": {},
   "outputs": [
    {
     "data": {
      "text/plain": [
       "['Name', 'age', 'Experience', 'Salary']"
      ]
     },
     "execution_count": 6,
     "metadata": {},
     "output_type": "execute_result"
    }
   ],
   "source": [
    "training.columns"
   ]
  },
  {
   "cell_type": "markdown",
   "id": "cc97d764",
   "metadata": {},
   "source": [
    "### Group Independent Features\n",
    "[Age, Experience] -----> new feature----->independent Feature"
   ]
  },
  {
   "cell_type": "code",
   "execution_count": 7,
   "id": "7f297ba6",
   "metadata": {},
   "outputs": [],
   "source": [
    "from pyspark.ml.feature import VectorAssembler\n",
    "featureassembler = VectorAssembler(inputCols=['age','Experience'],\n",
    "                                  outputCol=\"Independent Features\")"
   ]
  },
  {
   "cell_type": "code",
   "execution_count": 8,
   "id": "66689b80",
   "metadata": {},
   "outputs": [],
   "source": [
    "output = featureassembler.transform(training)"
   ]
  },
  {
   "cell_type": "code",
   "execution_count": 9,
   "id": "e20fcdcf",
   "metadata": {},
   "outputs": [
    {
     "name": "stdout",
     "output_type": "stream",
     "text": [
      "+----+---+----------+------+--------------------+\n",
      "|Name|age|Experience|Salary|Independent Features|\n",
      "+----+---+----------+------+--------------------+\n",
      "|  Gk| 25|         2|  2000|          [25.0,2.0]|\n",
      "|  An| 27|         3|  3000|          [27.0,3.0]|\n",
      "|  Ni| 24|         2|  2300|          [24.0,2.0]|\n",
      "|  Hu| 20|         1|  1000|          [20.0,1.0]|\n",
      "|  Ha| 30|        20|  8000|         [30.0,20.0]|\n",
      "|  Ki| 28|        12|  4500|         [28.0,12.0]|\n",
      "|  we| 34|        22|  9000|         [34.0,22.0]|\n",
      "| hum| 32|        17|  6000|         [32.0,17.0]|\n",
      "+----+---+----------+------+--------------------+\n",
      "\n"
     ]
    }
   ],
   "source": [
    "output.show()"
   ]
  },
  {
   "cell_type": "code",
   "execution_count": 10,
   "id": "daa2f914",
   "metadata": {},
   "outputs": [],
   "source": [
    "finalized_data = output.select(\"Independent Features\",\"Salary\")"
   ]
  },
  {
   "cell_type": "code",
   "execution_count": 11,
   "id": "5ffa624f",
   "metadata": {},
   "outputs": [
    {
     "name": "stdout",
     "output_type": "stream",
     "text": [
      "+--------------------+------+\n",
      "|Independent Features|Salary|\n",
      "+--------------------+------+\n",
      "|          [25.0,2.0]|  2000|\n",
      "|          [27.0,3.0]|  3000|\n",
      "|          [24.0,2.0]|  2300|\n",
      "|          [20.0,1.0]|  1000|\n",
      "|         [30.0,20.0]|  8000|\n",
      "|         [28.0,12.0]|  4500|\n",
      "|         [34.0,22.0]|  9000|\n",
      "|         [32.0,17.0]|  6000|\n",
      "+--------------------+------+\n",
      "\n"
     ]
    }
   ],
   "source": [
    "finalized_data.show()"
   ]
  },
  {
   "cell_type": "code",
   "execution_count": 12,
   "id": "748e11b3",
   "metadata": {},
   "outputs": [],
   "source": [
    "from pyspark.ml.regression import LinearRegression\n",
    "# train test split\n",
    "train_data,test_data = finalized_data.randomSplit([0.75,0.25])\n",
    "regressor = LinearRegression(featuresCol=\"Independent Features\",\n",
    "                             labelCol=\"Salary\")\n",
    "regressor = regressor.fit(train_data)"
   ]
  },
  {
   "cell_type": "code",
   "execution_count": 13,
   "id": "39cfae58",
   "metadata": {},
   "outputs": [
    {
     "data": {
      "text/plain": [
       "DenseVector([125.8502, 265.1165])"
      ]
     },
     "execution_count": 13,
     "metadata": {},
     "output_type": "execute_result"
    }
   ],
   "source": [
    "### Coefficients\n",
    "regressor.coefficients"
   ]
  },
  {
   "cell_type": "code",
   "execution_count": 14,
   "id": "0971da5a",
   "metadata": {},
   "outputs": [
    {
     "data": {
      "text/plain": [
       "-1491.5915915913697"
      ]
     },
     "execution_count": 14,
     "metadata": {},
     "output_type": "execute_result"
    }
   ],
   "source": [
    "#Intercepts\n",
    "regressor.intercept"
   ]
  },
  {
   "cell_type": "code",
   "execution_count": 15,
   "id": "ac493ffc",
   "metadata": {},
   "outputs": [],
   "source": [
    "#prediction\n",
    "pred_result = regressor.evaluate(test_data)"
   ]
  },
  {
   "cell_type": "code",
   "execution_count": 16,
   "id": "e70936d5",
   "metadata": {},
   "outputs": [
    {
     "name": "stdout",
     "output_type": "stream",
     "text": [
      "+--------------------+------+-----------------+\n",
      "|Independent Features|Salary|       prediction|\n",
      "+--------------------+------+-----------------+\n",
      "|          [25.0,2.0]|  2000|2184.895706517314|\n",
      "|         [28.0,12.0]|  4500|5213.610908205506|\n",
      "+--------------------+------+-----------------+\n",
      "\n"
     ]
    }
   ],
   "source": [
    "pred_result.predictions.show()"
   ]
  },
  {
   "cell_type": "code",
   "execution_count": 17,
   "id": "675af510",
   "metadata": {},
   "outputs": [
    {
     "data": {
      "text/plain": [
       "(449.2533073614102, 271713.4752992122)"
      ]
     },
     "execution_count": 17,
     "metadata": {},
     "output_type": "execute_result"
    }
   ],
   "source": [
    "pred_result.meanAbsoluteError, pred_result.meanSquaredError"
   ]
  },
  {
   "cell_type": "code",
   "execution_count": null,
   "id": "7030d676",
   "metadata": {},
   "outputs": [],
   "source": []
  }
 ],
 "metadata": {
  "kernelspec": {
   "display_name": "spark",
   "language": "python",
   "name": "spark"
  },
  "language_info": {
   "codemirror_mode": {
    "name": "ipython",
    "version": 3
   },
   "file_extension": ".py",
   "mimetype": "text/x-python",
   "name": "python",
   "nbconvert_exporter": "python",
   "pygments_lexer": "ipython3",
   "version": "3.8.5"
  }
 },
 "nbformat": 4,
 "nbformat_minor": 5
}
